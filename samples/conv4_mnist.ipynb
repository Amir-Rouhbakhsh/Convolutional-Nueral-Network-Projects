{
  "nbformat": 4,
  "nbformat_minor": 0,
  "metadata": {
    "colab": {
      "provenance": [],
      "gpuType": "T4"
    },
    "kernelspec": {
      "name": "python3",
      "display_name": "Python 3"
    },
    "language_info": {
      "name": "python"
    },
    "accelerator": "GPU"
  },
  "cells": [
    {
      "cell_type": "code",
      "execution_count": 18,
      "metadata": {
        "id": "jjBISurYUxYd"
      },
      "outputs": [],
      "source": [
        "import tensorflow as tf\n",
        "import matplotlib.pyplot as plt"
      ]
    },
    {
      "cell_type": "markdown",
      "source": [
        "Loading Dataset"
      ],
      "metadata": {
        "id": "uUGvuXryU-3a"
      }
    },
    {
      "cell_type": "code",
      "source": [
        "from tensorflow import keras\n",
        "from keras.datasets import mnist\n",
        "\n",
        "(x_train, y_train),(x_test, y_test)= mnist.load_data()"
      ],
      "metadata": {
        "id": "o4VDvhYpVEbK"
      },
      "execution_count": 19,
      "outputs": []
    },
    {
      "cell_type": "code",
      "source": [
        "plt.imshow(x_train[34],cmap='gray')\n",
        "plt.show()"
      ],
      "metadata": {
        "colab": {
          "base_uri": "https://localhost:8080/",
          "height": 430
        },
        "id": "oVZYHTlkVmPK",
        "outputId": "4157c287-bac1-4e67-b91c-b1f1d74e62d9"
      },
      "execution_count": 20,
      "outputs": [
        {
          "output_type": "display_data",
          "data": {
            "text/plain": [
              "<Figure size 640x480 with 1 Axes>"
            ],
            "image/png": "[encoded data removed]"
          },
          "metadata": {}
        }
      ]
    },
    {
      "cell_type": "code",
      "source": [
        "x_train.shape"
      ],
      "metadata": {
        "colab": {
          "base_uri": "https://localhost:8080/"
        },
        "id": "_D6l0XbdV9OR",
        "outputId": "12959d8a-819a-4d99-9bb7-c45b48171b9c"
      },
      "execution_count": 21,
      "outputs": [
        {
          "output_type": "execute_result",
          "data": {
            "text/plain": [
              "(60000, 28, 28)"
            ]
          },
          "metadata": {},
          "execution_count": 21
        }
      ]
    },
    {
      "cell_type": "markdown",
      "source": [
        "preprocessing"
      ],
      "metadata": {
        "id": "Fae_mSnHV2k6"
      }
    },
    {
      "cell_type": "code",
      "source": [
        "x_train=x_train.reshape((-1,28,28,1)).astype('float32')/255\n",
        "x_test=x_test.reshape((-1,28,28,1)).astype('float32')/255\n",
        "x_train.shape"
      ],
      "metadata": {
        "colab": {
          "base_uri": "https://localhost:8080/"
        },
        "id": "L20VmmQuV4tx",
        "outputId": "f10a0f0e-ac59-429c-fbee-4d4924b66919"
      },
      "execution_count": 22,
      "outputs": [
        {
          "output_type": "execute_result",
          "data": {
            "text/plain": [
              "(60000, 28, 28, 1)"
            ]
          },
          "metadata": {},
          "execution_count": 22
        }
      ]
    },
    {
      "cell_type": "markdown",
      "source": [
        "model definition"
      ],
      "metadata": {
        "id": "kPIiGF7FWblh"
      }
    },
    {
      "cell_type": "code",
      "source": [
        "model=keras.Sequential()\n",
        "model.add(keras.layers.Conv2D(128, kernel_size=(3,3), strides=(1,1), padding='valid', input_shape=(28,28,1)))\n",
        "model.add(keras.layers.BatchNormalization())\n",
        "model.add(keras.layers.Activation('relu'))\n",
        "model.add(keras.layers.MaxPool2D(pool_size=(2,2)))\n",
        "\n",
        "\n",
        "model.add(keras.layers.Conv2D(64, kernel_size=(3,3), strides=(1,1), padding='valid'))\n",
        "model.add(keras.layers.BatchNormalization())\n",
        "model.add(keras.layers.Activation('relu'))\n",
        "model.add(keras.layers.MaxPool2D(pool_size=(2,2)))\n",
        "\n",
        "model.add(keras.layers.Conv2D(32, kernel_size=(3,3), strides=(1,1), padding='valid'))\n",
        "model.add(keras.layers.BatchNormalization())\n",
        "model.add(keras.layers.Activation('relu'))\n",
        "model.add(keras.layers.MaxPool2D(pool_size=(2,2)))\n",
        "\n",
        "\n",
        "model.add(keras.layers.Flatten())\n",
        "\n",
        "model.add(keras.layers.Dense(units=256, activation='relu'))\n",
        "model.add(keras.layers.Dropout(0.5))\n",
        "\n",
        "model.add(keras.layers.Dense(units=128, activation='relu'))\n",
        "model.add(keras.layers.Dropout(0.5))\n",
        "\n",
        "model.add(keras.layers.Dense(units=10, activation='softmax'))\n",
        "\n",
        "model.compile(optimizer=tf.optimizers.Adam(), loss=tf.losses.sparse_categorical_crossentropy, metrics=['accuracy'] )\n",
        "model.summary()"
      ],
      "metadata": {
        "colab": {
          "base_uri": "https://localhost:8080/"
        },
        "id": "64wGMbJ0WdUY",
        "outputId": "43dbb90f-72a7-430e-8601-c6944d8837be"
      },
      "execution_count": 23,
      "outputs": [
        {
          "output_type": "stream",
          "name": "stdout",
          "text": [
            "Model: \"sequential_2\"\n",
            "_________________________________________________________________\n",
            " Layer (type)                Output Shape              Param #   \n",
            "=================================================================\n",
            " conv2d_6 (Conv2D)           (None, 26, 26, 128)       1280      \n",
            "                                                                 \n",
            " batch_normalization_3 (Bat  (None, 26, 26, 128)       512       \n",
            " chNormalization)                                                \n",
            "                                                                 \n",
            " activation_3 (Activation)   (None, 26, 26, 128)       0         \n",
            "                                                                 \n",
            " max_pooling2d_6 (MaxPoolin  (None, 13, 13, 128)       0         \n",
            " g2D)                                                            \n",
            "                                                                 \n",
            " conv2d_7 (Conv2D)           (None, 11, 11, 64)        73792     \n",
            "                                                                 \n",
            " batch_normalization_4 (Bat  (None, 11, 11, 64)        256       \n",
            " chNormalization)                                                \n",
            "                                                                 \n",
            " activation_4 (Activation)   (None, 11, 11, 64)        0         \n",
            "                                                                 \n",
            " max_pooling2d_7 (MaxPoolin  (None, 5, 5, 64)          0         \n",
            " g2D)                                                            \n",
            "                                                                 \n",
            " conv2d_8 (Conv2D)           (None, 3, 3, 32)          18464     \n",
            "                                                                 \n",
            " batch_normalization_5 (Bat  (None, 3, 3, 32)          128       \n",
            " chNormalization)                                                \n",
            "                                                                 \n",
            " activation_5 (Activation)   (None, 3, 3, 32)          0         \n",
            "                                                                 \n",
            " max_pooling2d_8 (MaxPoolin  (None, 1, 1, 32)          0         \n",
            " g2D)                                                            \n",
            "                                                                 \n",
            " flatten_2 (Flatten)         (None, 32)                0         \n",
            "                                                                 \n",
            " dense_6 (Dense)             (None, 256)               8448      \n",
            "                                                                 \n",
            " dropout (Dropout)           (None, 256)               0         \n",
            "                                                                 \n",
            " dense_7 (Dense)             (None, 128)               32896     \n",
            "                                                                 \n",
            " dropout_1 (Dropout)         (None, 128)               0         \n",
            "                                                                 \n",
            " dense_8 (Dense)             (None, 10)                1290      \n",
            "                                                                 \n",
            "=================================================================\n",
            "Total params: 137066 (535.41 KB)\n",
            "Trainable params: 136618 (533.66 KB)\n",
            "Non-trainable params: 448 (1.75 KB)\n",
            "_________________________________________________________________\n"
          ]
        }
      ]
    },
    {
      "cell_type": "code",
      "source": [
        "hist=model.fit(x_train, y_train, batch_size=256, epochs=10, validation_data=(x_test,y_test))"
      ],
      "metadata": {
        "colab": {
          "base_uri": "https://localhost:8080/"
        },
        "id": "0AQMS6aNZJJI",
        "outputId": "fb885348-95a9-4e34-a878-9f0a5b2866fb"
      },
      "execution_count": 24,
      "outputs": [
        {
          "output_type": "stream",
          "name": "stdout",
          "text": [
            "Epoch 1/10\n",
            "235/235 [==============================] - 9s 22ms/step - loss: 0.4325 - accuracy: 0.8666 - val_loss: 6.3722 - val_accuracy: 0.1135\n",
            "Epoch 2/10\n",
            "235/235 [==============================] - 5s 20ms/step - loss: 0.1011 - accuracy: 0.9714 - val_loss: 4.0855 - val_accuracy: 0.2011\n",
            "Epoch 3/10\n",
            "235/235 [==============================] - 5s 20ms/step - loss: 0.0762 - accuracy: 0.9787 - val_loss: 0.0888 - val_accuracy: 0.9754\n",
            "Epoch 4/10\n",
            "235/235 [==============================] - 5s 21ms/step - loss: 0.0613 - accuracy: 0.9826 - val_loss: 0.0944 - val_accuracy: 0.9743\n",
            "Epoch 5/10\n",
            "235/235 [==============================] - 5s 20ms/step - loss: 0.0520 - accuracy: 0.9853 - val_loss: 0.0570 - val_accuracy: 0.9836\n",
            "Epoch 6/10\n",
            "235/235 [==============================] - 5s 20ms/step - loss: 0.0447 - accuracy: 0.9876 - val_loss: 0.0488 - val_accuracy: 0.9868\n",
            "Epoch 7/10\n",
            "235/235 [==============================] - 5s 21ms/step - loss: 0.0392 - accuracy: 0.9884 - val_loss: 0.0580 - val_accuracy: 0.9849\n",
            "Epoch 8/10\n",
            "235/235 [==============================] - 5s 20ms/step - loss: 0.0346 - accuracy: 0.9901 - val_loss: 0.0561 - val_accuracy: 0.9837\n",
            "Epoch 9/10\n",
            "235/235 [==============================] - 5s 20ms/step - loss: 0.0294 - accuracy: 0.9908 - val_loss: 0.0590 - val_accuracy: 0.9852\n",
            "Epoch 10/10\n",
            "235/235 [==============================] - 5s 21ms/step - loss: 0.0282 - accuracy: 0.9915 - val_loss: 0.0752 - val_accuracy: 0.9818\n"
          ]
        }
      ]
    },
    {
      "cell_type": "code",
      "source": [
        "plt.plot(hist.history['accuracy'],color='blue')\n",
        "plt.plot(hist.history['val_accuracy'],color='red')"
      ],
      "metadata": {
        "colab": {
          "base_uri": "https://localhost:8080/",
          "height": 447
        },
        "id": "PYUq3fVCaLrv",
        "outputId": "b3202ecc-21d2-40b3-dd6e-f5960c17ad6b"
      },
      "execution_count": 25,
      "outputs": [
        {
          "output_type": "execute_result",
          "data": {
            "text/plain": [
              "[<matplotlib.lines.Line2D at 0x7a4f6e6f16f0>]"
            ]
          },
          "metadata": {},
          "execution_count": 25
        },
        {
          "output_type": "display_data",
          "data": {
            "text/plain": [
              "<Figure size 640x480 with 1 Axes>"
            ],
            "image/png": "[encoded data removed]"
          },
          "metadata": {}
        }
      ]
    }
  ]
}