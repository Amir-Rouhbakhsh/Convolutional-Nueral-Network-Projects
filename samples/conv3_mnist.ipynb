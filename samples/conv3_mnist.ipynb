{
  "nbformat": 4,
  "nbformat_minor": 0,
  "metadata": {
    "colab": {
      "provenance": [],
      "gpuType": "T4"
    },
    "kernelspec": {
      "name": "python3",
      "display_name": "Python 3"
    },
    "language_info": {
      "name": "python"
    },
    "accelerator": "GPU"
  },
  "cells": [
    {
      "cell_type": "code",
      "execution_count": 10,
      "metadata": {
        "id": "jjBISurYUxYd"
      },
      "outputs": [],
      "source": [
        "import tensorflow as tf\n",
        "import matplotlib.pyplot as plt"
      ]
    },
    {
      "cell_type": "markdown",
      "source": [
        "Loading Dataset"
      ],
      "metadata": {
        "id": "uUGvuXryU-3a"
      }
    },
    {
      "cell_type": "code",
      "source": [
        "from tensorflow import keras\n",
        "from keras.datasets import mnist\n",
        "\n",
        "(x_train, y_train),(x_test, y_test)= mnist.load_data()"
      ],
      "metadata": {
        "id": "o4VDvhYpVEbK"
      },
      "execution_count": 11,
      "outputs": []
    },
    {
      "cell_type": "code",
      "source": [
        "plt.imshow(x_train[34],cmap='gray')\n",
        "plt.show()"
      ],
      "metadata": {
        "colab": {
          "base_uri": "https://localhost:8080/",
          "height": 430
        },
        "id": "oVZYHTlkVmPK",
        "outputId": "19095cec-89e5-49c8-9026-c5ba4f3093b5"
      },
      "execution_count": 12,
      "outputs": [
        {
          "output_type": "display_data",
          "data": {
            "text/plain": [
              "<Figure size 640x480 with 1 Axes>"
            ],
            "image/png": "[encoded data removed]"
          },
          "metadata": {}
        }
      ]
    },
    {
      "cell_type": "code",
      "source": [
        "x_train.shape"
      ],
      "metadata": {
        "colab": {
          "base_uri": "https://localhost:8080/"
        },
        "id": "_D6l0XbdV9OR",
        "outputId": "ac93c8ad-a8aa-443a-c1ff-0db146beed5f"
      },
      "execution_count": 13,
      "outputs": [
        {
          "output_type": "execute_result",
          "data": {
            "text/plain": [
              "(60000, 28, 28)"
            ]
          },
          "metadata": {},
          "execution_count": 13
        }
      ]
    },
    {
      "cell_type": "markdown",
      "source": [
        "preprocessing"
      ],
      "metadata": {
        "id": "Fae_mSnHV2k6"
      }
    },
    {
      "cell_type": "code",
      "source": [
        "x_train=x_train.reshape((-1,28,28,1)).astype('float32')/255\n",
        "x_test=x_test.reshape((-1,28,28,1)).astype('float32')/255\n",
        "x_train.shape"
      ],
      "metadata": {
        "colab": {
          "base_uri": "https://localhost:8080/"
        },
        "id": "L20VmmQuV4tx",
        "outputId": "a60d3131-1de9-4fea-f4da-4e97feabcc50"
      },
      "execution_count": 14,
      "outputs": [
        {
          "output_type": "execute_result",
          "data": {
            "text/plain": [
              "(60000, 28, 28, 1)"
            ]
          },
          "metadata": {},
          "execution_count": 14
        }
      ]
    },
    {
      "cell_type": "markdown",
      "source": [
        "model definition"
      ],
      "metadata": {
        "id": "kPIiGF7FWblh"
      }
    },
    {
      "cell_type": "code",
      "source": [
        "model=keras.Sequential()\n",
        "model.add(keras.layers.Conv2D(128, kernel_size=(3,3), strides=(1,1), padding='valid', input_shape=(28,28,1)))\n",
        "model.add(keras.layers.BatchNormalization())\n",
        "model.add(keras.layers.Activation('relu'))\n",
        "model.add(keras.layers.MaxPool2D(pool_size=(2,2)))\n",
        "\n",
        "\n",
        "model.add(keras.layers.Conv2D(64, kernel_size=(3,3), strides=(1,1), padding='valid'))\n",
        "model.add(keras.layers.BatchNormalization())\n",
        "model.add(keras.layers.Activation('relu'))\n",
        "model.add(keras.layers.MaxPool2D(pool_size=(2,2)))\n",
        "\n",
        "model.add(keras.layers.Conv2D(32, kernel_size=(3,3), strides=(1,1), padding='valid'))\n",
        "model.add(keras.layers.BatchNormalization())\n",
        "model.add(keras.layers.Activation('relu'))\n",
        "model.add(keras.layers.MaxPool2D(pool_size=(2,2)))\n",
        "\n",
        "\n",
        "model.add(keras.layers.Flatten())\n",
        "model.add(keras.layers.Dense(units=256, activation='relu'))\n",
        "model.add(keras.layers.Dense(units=128, activation='relu'))\n",
        "model.add(keras.layers.Dense(units=10, activation='softmax'))\n",
        "\n",
        "model.compile(optimizer=tf.optimizers.Adam(), loss=tf.losses.sparse_categorical_crossentropy, metrics=['accuracy'] )\n",
        "model.summary()"
      ],
      "metadata": {
        "colab": {
          "base_uri": "https://localhost:8080/"
        },
        "id": "64wGMbJ0WdUY",
        "outputId": "91a2ec6c-f9a2-4047-f05a-b0b4d65a7199"
      },
      "execution_count": 15,
      "outputs": [
        {
          "output_type": "stream",
          "name": "stdout",
          "text": [
            "Model: \"sequential_1\"\n",
            "_________________________________________________________________\n",
            " Layer (type)                Output Shape              Param #   \n",
            "=================================================================\n",
            " conv2d_3 (Conv2D)           (None, 26, 26, 128)       1280      \n",
            "                                                                 \n",
            " batch_normalization (Batch  (None, 26, 26, 128)       512       \n",
            " Normalization)                                                  \n",
            "                                                                 \n",
            " activation (Activation)     (None, 26, 26, 128)       0         \n",
            "                                                                 \n",
            " max_pooling2d_3 (MaxPoolin  (None, 13, 13, 128)       0         \n",
            " g2D)                                                            \n",
            "                                                                 \n",
            " conv2d_4 (Conv2D)           (None, 11, 11, 64)        73792     \n",
            "                                                                 \n",
            " batch_normalization_1 (Bat  (None, 11, 11, 64)        256       \n",
            " chNormalization)                                                \n",
            "                                                                 \n",
            " activation_1 (Activation)   (None, 11, 11, 64)        0         \n",
            "                                                                 \n",
            " max_pooling2d_4 (MaxPoolin  (None, 5, 5, 64)          0         \n",
            " g2D)                                                            \n",
            "                                                                 \n",
            " conv2d_5 (Conv2D)           (None, 3, 3, 32)          18464     \n",
            "                                                                 \n",
            " batch_normalization_2 (Bat  (None, 3, 3, 32)          128       \n",
            " chNormalization)                                                \n",
            "                                                                 \n",
            " activation_2 (Activation)   (None, 3, 3, 32)          0         \n",
            "                                                                 \n",
            " max_pooling2d_5 (MaxPoolin  (None, 1, 1, 32)          0         \n",
            " g2D)                                                            \n",
            "                                                                 \n",
            " flatten_1 (Flatten)         (None, 32)                0         \n",
            "                                                                 \n",
            " dense_3 (Dense)             (None, 256)               8448      \n",
            "                                                                 \n",
            " dense_4 (Dense)             (None, 128)               32896     \n",
            "                                                                 \n",
            " dense_5 (Dense)             (None, 10)                1290      \n",
            "                                                                 \n",
            "=================================================================\n",
            "Total params: 137066 (535.41 KB)\n",
            "Trainable params: 136618 (533.66 KB)\n",
            "Non-trainable params: 448 (1.75 KB)\n",
            "_________________________________________________________________\n"
          ]
        }
      ]
    },
    {
      "cell_type": "code",
      "source": [
        "hist=model.fit(x_train, y_train, batch_size=256, epochs=10, validation_data=(x_test,y_test))"
      ],
      "metadata": {
        "colab": {
          "base_uri": "https://localhost:8080/"
        },
        "id": "0AQMS6aNZJJI",
        "outputId": "963b2904-6df9-4bb2-8869-2cde44431128"
      },
      "execution_count": 16,
      "outputs": [
        {
          "output_type": "stream",
          "name": "stdout",
          "text": [
            "Epoch 1/10\n",
            "235/235 [==============================] - 9s 25ms/step - loss: 0.2192 - accuracy: 0.9418 - val_loss: 3.4653 - val_accuracy: 0.1135\n",
            "Epoch 2/10\n",
            "235/235 [==============================] - 5s 20ms/step - loss: 0.0593 - accuracy: 0.9819 - val_loss: 1.6925 - val_accuracy: 0.3367\n",
            "Epoch 3/10\n",
            "235/235 [==============================] - 5s 20ms/step - loss: 0.0396 - accuracy: 0.9876 - val_loss: 0.1158 - val_accuracy: 0.9679\n",
            "Epoch 4/10\n",
            "235/235 [==============================] - 5s 21ms/step - loss: 0.0334 - accuracy: 0.9896 - val_loss: 0.0810 - val_accuracy: 0.9763\n",
            "Epoch 5/10\n",
            "235/235 [==============================] - 5s 20ms/step - loss: 0.0253 - accuracy: 0.9919 - val_loss: 0.0556 - val_accuracy: 0.9857\n",
            "Epoch 6/10\n",
            "235/235 [==============================] - 5s 20ms/step - loss: 0.0201 - accuracy: 0.9935 - val_loss: 0.0614 - val_accuracy: 0.9827\n",
            "Epoch 7/10\n",
            "235/235 [==============================] - 5s 21ms/step - loss: 0.0181 - accuracy: 0.9940 - val_loss: 0.0652 - val_accuracy: 0.9822\n",
            "Epoch 8/10\n",
            "235/235 [==============================] - 5s 20ms/step - loss: 0.0152 - accuracy: 0.9950 - val_loss: 0.0602 - val_accuracy: 0.9856\n",
            "Epoch 9/10\n",
            "235/235 [==============================] - 5s 21ms/step - loss: 0.0144 - accuracy: 0.9952 - val_loss: 0.0826 - val_accuracy: 0.9772\n",
            "Epoch 10/10\n",
            "235/235 [==============================] - 5s 21ms/step - loss: 0.0111 - accuracy: 0.9959 - val_loss: 0.0626 - val_accuracy: 0.9846\n"
          ]
        }
      ]
    },
    {
      "cell_type": "code",
      "source": [
        "plt.plot(hist.history['accuracy'],color='blue')\n",
        "plt.plot(hist.history['val_accuracy'],color='red')"
      ],
      "metadata": {
        "colab": {
          "base_uri": "https://localhost:8080/",
          "height": 447
        },
        "id": "PYUq3fVCaLrv",
        "outputId": "e000b18c-4d83-4386-a265-d6af81ce9318"
      },
      "execution_count": 17,
      "outputs": [
        {
          "output_type": "execute_result",
          "data": {
            "text/plain": [
              "[<matplotlib.lines.Line2D at 0x7a4f6fbfa350>]"
            ]
          },
          "metadata": {},
          "execution_count": 17
        },
        {
          "output_type": "display_data",
          "data": {
            "text/plain": [
              "<Figure size 640x480 with 1 Axes>"
            ],
            "image/png": "[encoded data removed]"
          },
          "metadata": {}
        }
      ]
    }
  ]
}